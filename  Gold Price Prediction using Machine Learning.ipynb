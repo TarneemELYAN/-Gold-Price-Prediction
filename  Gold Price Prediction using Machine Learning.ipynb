{
 "cells": [
  {
   "cell_type": "markdown",
   "id": "692d79d4",
   "metadata": {},
   "source": [
    "#  Gold Price Prediction using Machine Learning"
   ]
  },
  {
   "cell_type": "code",
   "execution_count": 6,
   "id": "a53f1d46",
   "metadata": {},
   "outputs": [],
   "source": [
    "import numpy as np \n",
    "import pandas as pd \n",
    "import matplotlib.pyplot as plt \n",
    "import seaborn as sns \n",
    "from sklearn.ensemble import RandomForestRegressor  # For regression task\n",
    "from sklearn.model_selection import train_test_split\n",
    "from sklearn.metrics import r2_score\n",
    "import streamlit as st\n",
    "from PIL import Image"
   ]
  },
  {
   "cell_type": "code",
   "execution_count": 6,
   "id": "a9be22ce",
   "metadata": {},
   "outputs": [
    {
     "data": {
      "text/html": [
       "<div>\n",
       "<style scoped>\n",
       "    .dataframe tbody tr th:only-of-type {\n",
       "        vertical-align: middle;\n",
       "    }\n",
       "\n",
       "    .dataframe tbody tr th {\n",
       "        vertical-align: top;\n",
       "    }\n",
       "\n",
       "    .dataframe thead th {\n",
       "        text-align: right;\n",
       "    }\n",
       "</style>\n",
       "<table border=\"1\" class=\"dataframe\">\n",
       "  <thead>\n",
       "    <tr style=\"text-align: right;\">\n",
       "      <th></th>\n",
       "      <th>Date</th>\n",
       "      <th>SPX</th>\n",
       "      <th>GLD</th>\n",
       "      <th>USO</th>\n",
       "      <th>SLV</th>\n",
       "      <th>EUR/USD</th>\n",
       "    </tr>\n",
       "  </thead>\n",
       "  <tbody>\n",
       "    <tr>\n",
       "      <th>0</th>\n",
       "      <td>1/2/2008</td>\n",
       "      <td>1447.160034</td>\n",
       "      <td>84.860001</td>\n",
       "      <td>78.470001</td>\n",
       "      <td>15.1800</td>\n",
       "      <td>1.471692</td>\n",
       "    </tr>\n",
       "    <tr>\n",
       "      <th>1</th>\n",
       "      <td>1/3/2008</td>\n",
       "      <td>1447.160034</td>\n",
       "      <td>85.570000</td>\n",
       "      <td>78.370003</td>\n",
       "      <td>15.2850</td>\n",
       "      <td>1.474491</td>\n",
       "    </tr>\n",
       "    <tr>\n",
       "      <th>2</th>\n",
       "      <td>1/4/2008</td>\n",
       "      <td>1411.630005</td>\n",
       "      <td>85.129997</td>\n",
       "      <td>77.309998</td>\n",
       "      <td>15.1670</td>\n",
       "      <td>1.475492</td>\n",
       "    </tr>\n",
       "    <tr>\n",
       "      <th>3</th>\n",
       "      <td>1/7/2008</td>\n",
       "      <td>1416.180054</td>\n",
       "      <td>84.769997</td>\n",
       "      <td>75.500000</td>\n",
       "      <td>15.0530</td>\n",
       "      <td>1.468299</td>\n",
       "    </tr>\n",
       "    <tr>\n",
       "      <th>4</th>\n",
       "      <td>1/8/2008</td>\n",
       "      <td>1390.189941</td>\n",
       "      <td>86.779999</td>\n",
       "      <td>76.059998</td>\n",
       "      <td>15.5900</td>\n",
       "      <td>1.557099</td>\n",
       "    </tr>\n",
       "    <tr>\n",
       "      <th>...</th>\n",
       "      <td>...</td>\n",
       "      <td>...</td>\n",
       "      <td>...</td>\n",
       "      <td>...</td>\n",
       "      <td>...</td>\n",
       "      <td>...</td>\n",
       "    </tr>\n",
       "    <tr>\n",
       "      <th>2285</th>\n",
       "      <td>5/8/2018</td>\n",
       "      <td>2671.919922</td>\n",
       "      <td>124.589996</td>\n",
       "      <td>14.060000</td>\n",
       "      <td>15.5100</td>\n",
       "      <td>1.186789</td>\n",
       "    </tr>\n",
       "    <tr>\n",
       "      <th>2286</th>\n",
       "      <td>5/9/2018</td>\n",
       "      <td>2697.790039</td>\n",
       "      <td>124.330002</td>\n",
       "      <td>14.370000</td>\n",
       "      <td>15.5300</td>\n",
       "      <td>1.184722</td>\n",
       "    </tr>\n",
       "    <tr>\n",
       "      <th>2287</th>\n",
       "      <td>5/10/2018</td>\n",
       "      <td>2723.070068</td>\n",
       "      <td>125.180000</td>\n",
       "      <td>14.410000</td>\n",
       "      <td>15.7400</td>\n",
       "      <td>1.191753</td>\n",
       "    </tr>\n",
       "    <tr>\n",
       "      <th>2288</th>\n",
       "      <td>5/14/2018</td>\n",
       "      <td>2730.129883</td>\n",
       "      <td>124.489998</td>\n",
       "      <td>14.380000</td>\n",
       "      <td>15.5600</td>\n",
       "      <td>1.193118</td>\n",
       "    </tr>\n",
       "    <tr>\n",
       "      <th>2289</th>\n",
       "      <td>5/16/2018</td>\n",
       "      <td>2725.780029</td>\n",
       "      <td>122.543800</td>\n",
       "      <td>14.405800</td>\n",
       "      <td>15.4542</td>\n",
       "      <td>1.182033</td>\n",
       "    </tr>\n",
       "  </tbody>\n",
       "</table>\n",
       "<p>2290 rows × 6 columns</p>\n",
       "</div>"
      ],
      "text/plain": [
       "           Date          SPX         GLD        USO      SLV   EUR/USD\n",
       "0      1/2/2008  1447.160034   84.860001  78.470001  15.1800  1.471692\n",
       "1      1/3/2008  1447.160034   85.570000  78.370003  15.2850  1.474491\n",
       "2      1/4/2008  1411.630005   85.129997  77.309998  15.1670  1.475492\n",
       "3      1/7/2008  1416.180054   84.769997  75.500000  15.0530  1.468299\n",
       "4      1/8/2008  1390.189941   86.779999  76.059998  15.5900  1.557099\n",
       "...         ...          ...         ...        ...      ...       ...\n",
       "2285   5/8/2018  2671.919922  124.589996  14.060000  15.5100  1.186789\n",
       "2286   5/9/2018  2697.790039  124.330002  14.370000  15.5300  1.184722\n",
       "2287  5/10/2018  2723.070068  125.180000  14.410000  15.7400  1.191753\n",
       "2288  5/14/2018  2730.129883  124.489998  14.380000  15.5600  1.193118\n",
       "2289  5/16/2018  2725.780029  122.543800  14.405800  15.4542  1.182033\n",
       "\n",
       "[2290 rows x 6 columns]"
      ]
     },
     "execution_count": 6,
     "metadata": {},
     "output_type": "execute_result"
    }
   ],
   "source": [
    "gold=pd.read_csv(\"gld_price_data.csv\")\n",
    "gold"
   ]
  },
  {
   "cell_type": "code",
   "execution_count": 7,
   "id": "8cddf625",
   "metadata": {},
   "outputs": [
    {
     "data": {
      "text/html": [
       "<div>\n",
       "<style scoped>\n",
       "    .dataframe tbody tr th:only-of-type {\n",
       "        vertical-align: middle;\n",
       "    }\n",
       "\n",
       "    .dataframe tbody tr th {\n",
       "        vertical-align: top;\n",
       "    }\n",
       "\n",
       "    .dataframe thead th {\n",
       "        text-align: right;\n",
       "    }\n",
       "</style>\n",
       "<table border=\"1\" class=\"dataframe\">\n",
       "  <thead>\n",
       "    <tr style=\"text-align: right;\">\n",
       "      <th></th>\n",
       "      <th>Date</th>\n",
       "      <th>SPX</th>\n",
       "      <th>GLD</th>\n",
       "      <th>USO</th>\n",
       "      <th>SLV</th>\n",
       "      <th>EUR/USD</th>\n",
       "    </tr>\n",
       "  </thead>\n",
       "  <tbody>\n",
       "    <tr>\n",
       "      <th>0</th>\n",
       "      <td>1/2/2008</td>\n",
       "      <td>1447.160034</td>\n",
       "      <td>84.860001</td>\n",
       "      <td>78.470001</td>\n",
       "      <td>15.180</td>\n",
       "      <td>1.471692</td>\n",
       "    </tr>\n",
       "    <tr>\n",
       "      <th>1</th>\n",
       "      <td>1/3/2008</td>\n",
       "      <td>1447.160034</td>\n",
       "      <td>85.570000</td>\n",
       "      <td>78.370003</td>\n",
       "      <td>15.285</td>\n",
       "      <td>1.474491</td>\n",
       "    </tr>\n",
       "    <tr>\n",
       "      <th>2</th>\n",
       "      <td>1/4/2008</td>\n",
       "      <td>1411.630005</td>\n",
       "      <td>85.129997</td>\n",
       "      <td>77.309998</td>\n",
       "      <td>15.167</td>\n",
       "      <td>1.475492</td>\n",
       "    </tr>\n",
       "    <tr>\n",
       "      <th>3</th>\n",
       "      <td>1/7/2008</td>\n",
       "      <td>1416.180054</td>\n",
       "      <td>84.769997</td>\n",
       "      <td>75.500000</td>\n",
       "      <td>15.053</td>\n",
       "      <td>1.468299</td>\n",
       "    </tr>\n",
       "    <tr>\n",
       "      <th>4</th>\n",
       "      <td>1/8/2008</td>\n",
       "      <td>1390.189941</td>\n",
       "      <td>86.779999</td>\n",
       "      <td>76.059998</td>\n",
       "      <td>15.590</td>\n",
       "      <td>1.557099</td>\n",
       "    </tr>\n",
       "  </tbody>\n",
       "</table>\n",
       "</div>"
      ],
      "text/plain": [
       "       Date          SPX        GLD        USO     SLV   EUR/USD\n",
       "0  1/2/2008  1447.160034  84.860001  78.470001  15.180  1.471692\n",
       "1  1/3/2008  1447.160034  85.570000  78.370003  15.285  1.474491\n",
       "2  1/4/2008  1411.630005  85.129997  77.309998  15.167  1.475492\n",
       "3  1/7/2008  1416.180054  84.769997  75.500000  15.053  1.468299\n",
       "4  1/8/2008  1390.189941  86.779999  76.059998  15.590  1.557099"
      ]
     },
     "execution_count": 7,
     "metadata": {},
     "output_type": "execute_result"
    }
   ],
   "source": [
    "gold.head()"
   ]
  },
  {
   "cell_type": "markdown",
   "id": "f3253b46",
   "metadata": {},
   "source": [
    "## uncovring the data "
   ]
  },
  {
   "cell_type": "code",
   "execution_count": 10,
   "id": "21a95c68",
   "metadata": {},
   "outputs": [
    {
     "data": {
      "text/plain": [
       "(2290, 6)"
      ]
     },
     "execution_count": 10,
     "metadata": {},
     "output_type": "execute_result"
    }
   ],
   "source": [
    "gold.shape"
   ]
  },
  {
   "cell_type": "code",
   "execution_count": 12,
   "id": "4d96075a",
   "metadata": {},
   "outputs": [
    {
     "name": "stdout",
     "output_type": "stream",
     "text": [
      "<class 'pandas.core.frame.DataFrame'>\n",
      "RangeIndex: 2290 entries, 0 to 2289\n",
      "Data columns (total 6 columns):\n",
      " #   Column   Non-Null Count  Dtype  \n",
      "---  ------   --------------  -----  \n",
      " 0   Date     2290 non-null   object \n",
      " 1   SPX      2290 non-null   float64\n",
      " 2   GLD      2290 non-null   float64\n",
      " 3   USO      2290 non-null   float64\n",
      " 4   SLV      2290 non-null   float64\n",
      " 5   EUR/USD  2290 non-null   float64\n",
      "dtypes: float64(5), object(1)\n",
      "memory usage: 107.5+ KB\n"
     ]
    }
   ],
   "source": [
    "gold.info()"
   ]
  },
  {
   "cell_type": "code",
   "execution_count": 13,
   "id": "ccdbb2c5",
   "metadata": {},
   "outputs": [
    {
     "data": {
      "text/plain": [
       "Date       0\n",
       "SPX        0\n",
       "GLD        0\n",
       "USO        0\n",
       "SLV        0\n",
       "EUR/USD    0\n",
       "dtype: int64"
      ]
     },
     "execution_count": 13,
     "metadata": {},
     "output_type": "execute_result"
    }
   ],
   "source": [
    "#nan value checking \n",
    "gold.isnull().sum()"
   ]
  },
  {
   "cell_type": "code",
   "execution_count": 14,
   "id": "8145f694",
   "metadata": {},
   "outputs": [
    {
     "data": {
      "text/html": [
       "<div>\n",
       "<style scoped>\n",
       "    .dataframe tbody tr th:only-of-type {\n",
       "        vertical-align: middle;\n",
       "    }\n",
       "\n",
       "    .dataframe tbody tr th {\n",
       "        vertical-align: top;\n",
       "    }\n",
       "\n",
       "    .dataframe thead th {\n",
       "        text-align: right;\n",
       "    }\n",
       "</style>\n",
       "<table border=\"1\" class=\"dataframe\">\n",
       "  <thead>\n",
       "    <tr style=\"text-align: right;\">\n",
       "      <th></th>\n",
       "      <th>SPX</th>\n",
       "      <th>GLD</th>\n",
       "      <th>USO</th>\n",
       "      <th>SLV</th>\n",
       "      <th>EUR/USD</th>\n",
       "    </tr>\n",
       "  </thead>\n",
       "  <tbody>\n",
       "    <tr>\n",
       "      <th>count</th>\n",
       "      <td>2290.000000</td>\n",
       "      <td>2290.000000</td>\n",
       "      <td>2290.000000</td>\n",
       "      <td>2290.000000</td>\n",
       "      <td>2290.000000</td>\n",
       "    </tr>\n",
       "    <tr>\n",
       "      <th>mean</th>\n",
       "      <td>1654.315776</td>\n",
       "      <td>122.732875</td>\n",
       "      <td>31.842221</td>\n",
       "      <td>20.084997</td>\n",
       "      <td>1.283653</td>\n",
       "    </tr>\n",
       "    <tr>\n",
       "      <th>std</th>\n",
       "      <td>519.111540</td>\n",
       "      <td>23.283346</td>\n",
       "      <td>19.523517</td>\n",
       "      <td>7.092566</td>\n",
       "      <td>0.131547</td>\n",
       "    </tr>\n",
       "    <tr>\n",
       "      <th>min</th>\n",
       "      <td>676.530029</td>\n",
       "      <td>70.000000</td>\n",
       "      <td>7.960000</td>\n",
       "      <td>8.850000</td>\n",
       "      <td>1.039047</td>\n",
       "    </tr>\n",
       "    <tr>\n",
       "      <th>25%</th>\n",
       "      <td>1239.874969</td>\n",
       "      <td>109.725000</td>\n",
       "      <td>14.380000</td>\n",
       "      <td>15.570000</td>\n",
       "      <td>1.171313</td>\n",
       "    </tr>\n",
       "    <tr>\n",
       "      <th>50%</th>\n",
       "      <td>1551.434998</td>\n",
       "      <td>120.580002</td>\n",
       "      <td>33.869999</td>\n",
       "      <td>17.268500</td>\n",
       "      <td>1.303297</td>\n",
       "    </tr>\n",
       "    <tr>\n",
       "      <th>75%</th>\n",
       "      <td>2073.010070</td>\n",
       "      <td>132.840004</td>\n",
       "      <td>37.827501</td>\n",
       "      <td>22.882500</td>\n",
       "      <td>1.369971</td>\n",
       "    </tr>\n",
       "    <tr>\n",
       "      <th>max</th>\n",
       "      <td>2872.870117</td>\n",
       "      <td>184.589996</td>\n",
       "      <td>117.480003</td>\n",
       "      <td>47.259998</td>\n",
       "      <td>1.598798</td>\n",
       "    </tr>\n",
       "  </tbody>\n",
       "</table>\n",
       "</div>"
      ],
      "text/plain": [
       "               SPX          GLD          USO          SLV      EUR/USD\n",
       "count  2290.000000  2290.000000  2290.000000  2290.000000  2290.000000\n",
       "mean   1654.315776   122.732875    31.842221    20.084997     1.283653\n",
       "std     519.111540    23.283346    19.523517     7.092566     0.131547\n",
       "min     676.530029    70.000000     7.960000     8.850000     1.039047\n",
       "25%    1239.874969   109.725000    14.380000    15.570000     1.171313\n",
       "50%    1551.434998   120.580002    33.869999    17.268500     1.303297\n",
       "75%    2073.010070   132.840004    37.827501    22.882500     1.369971\n",
       "max    2872.870117   184.589996   117.480003    47.259998     1.598798"
      ]
     },
     "execution_count": 14,
     "metadata": {},
     "output_type": "execute_result"
    }
   ],
   "source": [
    "#statistical summary\n",
    "gold.describe()"
   ]
  },
  {
   "cell_type": "markdown",
   "id": "8729a9c5",
   "metadata": {},
   "source": [
    "## correlaton :"
   ]
  },
  {
   "cell_type": "code",
   "execution_count": 15,
   "id": "ca243fca",
   "metadata": {},
   "outputs": [
    {
     "data": {
      "text/html": [
       "<div>\n",
       "<style scoped>\n",
       "    .dataframe tbody tr th:only-of-type {\n",
       "        vertical-align: middle;\n",
       "    }\n",
       "\n",
       "    .dataframe tbody tr th {\n",
       "        vertical-align: top;\n",
       "    }\n",
       "\n",
       "    .dataframe thead th {\n",
       "        text-align: right;\n",
       "    }\n",
       "</style>\n",
       "<table border=\"1\" class=\"dataframe\">\n",
       "  <thead>\n",
       "    <tr style=\"text-align: right;\">\n",
       "      <th></th>\n",
       "      <th>SPX</th>\n",
       "      <th>GLD</th>\n",
       "      <th>USO</th>\n",
       "      <th>SLV</th>\n",
       "      <th>EUR/USD</th>\n",
       "    </tr>\n",
       "  </thead>\n",
       "  <tbody>\n",
       "    <tr>\n",
       "      <th>SPX</th>\n",
       "      <td>1.000000</td>\n",
       "      <td>0.049345</td>\n",
       "      <td>-0.591573</td>\n",
       "      <td>-0.274055</td>\n",
       "      <td>-0.672017</td>\n",
       "    </tr>\n",
       "    <tr>\n",
       "      <th>GLD</th>\n",
       "      <td>0.049345</td>\n",
       "      <td>1.000000</td>\n",
       "      <td>-0.186360</td>\n",
       "      <td>0.866632</td>\n",
       "      <td>-0.024375</td>\n",
       "    </tr>\n",
       "    <tr>\n",
       "      <th>USO</th>\n",
       "      <td>-0.591573</td>\n",
       "      <td>-0.186360</td>\n",
       "      <td>1.000000</td>\n",
       "      <td>0.167547</td>\n",
       "      <td>0.829317</td>\n",
       "    </tr>\n",
       "    <tr>\n",
       "      <th>SLV</th>\n",
       "      <td>-0.274055</td>\n",
       "      <td>0.866632</td>\n",
       "      <td>0.167547</td>\n",
       "      <td>1.000000</td>\n",
       "      <td>0.321631</td>\n",
       "    </tr>\n",
       "    <tr>\n",
       "      <th>EUR/USD</th>\n",
       "      <td>-0.672017</td>\n",
       "      <td>-0.024375</td>\n",
       "      <td>0.829317</td>\n",
       "      <td>0.321631</td>\n",
       "      <td>1.000000</td>\n",
       "    </tr>\n",
       "  </tbody>\n",
       "</table>\n",
       "</div>"
      ],
      "text/plain": [
       "              SPX       GLD       USO       SLV   EUR/USD\n",
       "SPX      1.000000  0.049345 -0.591573 -0.274055 -0.672017\n",
       "GLD      0.049345  1.000000 -0.186360  0.866632 -0.024375\n",
       "USO     -0.591573 -0.186360  1.000000  0.167547  0.829317\n",
       "SLV     -0.274055  0.866632  0.167547  1.000000  0.321631\n",
       "EUR/USD -0.672017 -0.024375  0.829317  0.321631  1.000000"
      ]
     },
     "execution_count": 15,
     "metadata": {},
     "output_type": "execute_result"
    }
   ],
   "source": [
    "correlation=gold.corr()\n",
    "correlation"
   ]
  },
  {
   "cell_type": "code",
   "execution_count": 18,
   "id": "50d30aef",
   "metadata": {},
   "outputs": [
    {
     "data": {
      "image/png": "[encoded data removed]",
      "text/plain": [
       "<Figure size 432x432 with 2 Axes>"
      ]
     },
     "metadata": {
      "needs_background": "light"
     },
     "output_type": "display_data"
    }
   ],
   "source": [
    "plt.figure(figsize=(6, 6))\n",
    "sns.heatmap(correlation, cmap=\"plasma\", square=True, annot=True, annot_kws={\"size\": 8})\n",
    "plt.show()"
   ]
  },
  {
   "cell_type": "code",
   "execution_count": 19,
   "id": "589a676c",
   "metadata": {},
   "outputs": [
    {
     "name": "stdout",
     "output_type": "stream",
     "text": [
      "SPX        0.049345\n",
      "GLD        1.000000\n",
      "USO       -0.186360\n",
      "SLV        0.866632\n",
      "EUR/USD   -0.024375\n",
      "Name: GLD, dtype: float64\n"
     ]
    }
   ],
   "source": [
    "print(correlation[\"GLD\"])"
   ]
  },
  {
   "cell_type": "code",
   "execution_count": 20,
   "id": "e9bd181b",
   "metadata": {},
   "outputs": [
    {
     "data": {
      "text/plain": [
       "<seaborn.axisgrid.FacetGrid at 0x1e52cc11490>"
      ]
     },
     "execution_count": 20,
     "metadata": {},
     "output_type": "execute_result"
    },
    {
     "data": {
      "image/png": "[encoded data removed]",
      "text/plain": [
       "<Figure size 360x360 with 1 Axes>"
      ]
     },
     "metadata": {
      "needs_background": "light"
     },
     "output_type": "display_data"
    }
   ],
   "source": [
    "sns.displot(gold[\"GLD\"],color=\"green\")"
   ]
  },
  {
   "cell_type": "code",
   "execution_count": 26,
   "id": "a2314706",
   "metadata": {},
   "outputs": [],
   "source": [
    "#splitting the features & target \n",
    "X=gold.drop([\"Date\",\"GLD\"],axis=1)\n",
    "Y=gold[\"GLD\"]"
   ]
  },
  {
   "cell_type": "markdown",
   "id": "7e2695a4",
   "metadata": {},
   "source": [
    "## Teaining the model"
   ]
  },
  {
   "cell_type": "code",
   "execution_count": 28,
   "id": "741b453c",
   "metadata": {},
   "outputs": [],
   "source": [
    "X_train, X_test, Y_train, Y_test = train_test_split(X, Y, test_size=0.2, random_state=42)"
   ]
  },
  {
   "cell_type": "code",
   "execution_count": 30,
   "id": "428f8cf8",
   "metadata": {},
   "outputs": [
    {
     "data": {
      "text/plain": [
       "0.9903897974137352"
      ]
     },
     "execution_count": 30,
     "metadata": {},
     "output_type": "execute_result"
    }
   ],
   "source": [
    "reg=RandomForestRegressor()\n",
    "reg.fit(X_train,Y_train)\n",
    "pred=reg.predict(X_test)\n",
    "r2_score(Y_test,pred)"
   ]
  },
  {
   "cell_type": "code",
   "execution_count": 31,
   "id": "7eded89e",
   "metadata": {},
   "outputs": [
    {
     "name": "stdout",
     "output_type": "stream",
     "text": [
      "[122.53229934 130.64300265 127.58540016  96.61779738 118.83630065\n",
      " 114.39299904 124.74700128 117.68599917 107.98230111  98.40189958\n",
      "  95.44629993 168.06129826 150.74060058 116.53290085 170.48570168\n",
      "  85.37690026 123.08309867 108.77119702 113.24360084 131.92150271\n",
      " 124.31579889 113.59840045 115.96960053 108.80419965 108.63520159\n",
      " 125.76449944 118.47139954 112.38849908 113.68450177 125.5140988\n",
      " 146.00430194  89.50380038 167.95890016 114.05149957 108.42510102\n",
      " 120.28290123 141.53839875 161.29930155 174.20349785 153.1977012\n",
      " 119.1938008  113.04010076 121.49329913 113.77359895 121.98659999\n",
      " 108.02340075  88.07649889 114.34589928 129.92570196 118.08680149\n",
      " 103.81120051 129.96310216 107.14409819 160.74000372 131.61210012\n",
      " 118.15589962 147.40170017 135.72550217  95.65590152 124.63520134\n",
      " 115.49859875  86.08730069 104.22019906 113.83990053  84.33819957\n",
      " 122.22250025 116.3502988  113.64410216 165.63790235  92.10140011\n",
      "  80.34080041 160.86850143 157.7398022  106.29580005 150.1158999\n",
      " 109.60959762 122.89840065 128.4749008  113.4705996  120.18660042\n",
      " 136.08509716 107.55450057  93.8386009   92.6978986  111.35410076\n",
      " 118.02560025 108.54509912 112.23600004 167.79159886 161.05659859\n",
      " 107.63499845 125.05990013 108.04200054 115.37350194 126.8382983\n",
      " 108.23729939 161.6032023   84.22329889 131.71090287 114.79889967\n",
      " 154.76720051 110.38869845 113.8748998  107.86969965 138.03150008\n",
      "  88.59329965  92.33029902 175.20040115 119.09080041 118.62610013\n",
      " 121.30680016 171.28639824 131.56950025 119.8681004  158.44690283\n",
      " 118.8840983  119.16159979 110.64269957 119.62399918 122.11680026\n",
      " 129.15439827 114.83510043  89.29679929 114.36720116 132.29909909\n",
      " 115.34950133 125.15440015  90.71700062 106.89240021 117.0902014\n",
      " 109.76719943 166.40530203  80.60080076 121.85459932  73.16280162\n",
      " 111.39719969 100.7990012  124.12040025  76.05589976 125.53009925\n",
      " 119.68620044 105.3360994   90.75619878 132.41470017 137.6782019\n",
      " 176.00120008 126.86159934 126.92059902 123.80379972  91.88059879\n",
      " 151.02680167 102.87639886 117.42980034 135.49069801 135.94609986\n",
      " 118.57000024 117.07510184 102.15299809 124.00149877  89.49029949\n",
      " 108.10859914 117.63400018 167.86460068 117.14710057 117.41859965\n",
      " 155.55540188 111.45860002  87.07689948 116.54630114 124.21589947\n",
      " 120.70500235 118.07580018  96.5010987  109.49150006 114.92699938\n",
      " 127.53750111 156.09590094 107.86650094 124.207999   139.31980169\n",
      "  90.96870083 117.93280081 130.71180019 114.09889935 108.33459928\n",
      " 119.29600036 128.04490009 125.3819001  144.65750077 112.50410095\n",
      "  93.72830014 115.18510008 125.57460053 120.6016016  122.23080086\n",
      "  92.58280074 121.49999866  93.23520004 119.09400033 124.4441999\n",
      " 121.87400035 131.20139985 124.52599935 115.16280147 127.46550082\n",
      " 113.26530087 165.4433999  122.29699777 119.42360187 114.22720012\n",
      " 120.03449997 120.14089973 105.79890066 116.51130043 125.77389921\n",
      " 172.12469761  85.62409983 134.35109753 127.72199862  73.95230075\n",
      " 119.18370001  89.02189962 162.50590204  91.92119961 158.8091015\n",
      " 102.32109827 102.85499971 102.46869878 118.59449922 165.39000118\n",
      " 120.21840117 135.63529859  96.57559816 113.04379951 132.08090191\n",
      " 145.54920079 125.68610023 101.55099999 125.42110071 159.77380128\n",
      " 119.79730091 126.48920078 127.52960106 115.34589983 156.69860244\n",
      " 128.99409966 114.3716997  177.30149961 119.89540197 119.26300102\n",
      " 102.77829856 160.68039965 114.598801   118.39179951 125.20709926\n",
      " 116.89550107 114.66709938  91.04449985 101.51000009 132.03980093\n",
      " 118.84530222 168.89159816 108.02560124  86.23610025  91.68409974\n",
      " 156.09049991 157.03010015 153.01589926  72.99299983 120.90620008\n",
      " 117.35660017 158.98989959 135.35159916 111.71119989 113.8856999\n",
      " 160.75740265 125.4637995  119.5523012  117.99059993 158.60930203\n",
      " 104.0802999   89.23209938  83.47179969  90.01899937 115.42850001\n",
      " 113.91399974 119.5538011  119.60300081  79.4905999   90.72840073\n",
      " 153.52690299 119.61890064 132.08820044 125.42220151 113.48420096\n",
      "  82.12350063 118.1856992   89.85860028 117.86619995 163.08820342\n",
      " 121.35410086 110.41680031 125.33449895 114.3788003  135.50190055\n",
      "  80.11470059 163.45089995 132.12450121 163.87600004 127.64309903\n",
      "  91.7208991  108.35349956 114.1469995  127.61370168 119.32790188\n",
      "  92.48399941 132.30989858 162.53080069  72.30130174 112.23560001\n",
      " 108.64609953 113.59379791 120.24520111 111.89899981 120.6418001\n",
      " 118.45530218 126.3835009  125.68220137 109.70379978 167.8338004\n",
      " 166.78519861 112.40439961 169.38009684 112.0073002  161.57830156\n",
      " 127.51139862 167.31829897 134.81230165 109.36389858 167.34409972\n",
      " 116.58060145  72.75130123 113.52330008  93.30629969  87.7675002\n",
      " 104.14899885 125.81130029 123.35989782 168.40739856 121.07140061\n",
      "  87.22489857 131.65939811 121.78320029 107.70259979 169.50980042\n",
      " 126.19659789 127.1583012  113.52040061 134.57880088 125.27800105\n",
      " 144.8124996  123.2150994  118.88270041 121.02899973 167.15739956\n",
      "  71.63270033 163.40299921 166.95769889 118.48490044 103.4980981\n",
      " 127.78159779 153.90170003 171.93360039 135.17829776 127.01200031\n",
      " 124.08720034 152.98219855  87.7719002  131.07400184 110.90180091\n",
      " 164.48240101 156.39929966 166.57330105 121.63979987  90.09070059\n",
      " 132.31110192  99.48340002 127.58059766 127.82629764 108.57839954\n",
      "  90.91439889 153.20410077  94.99259891  87.83099933 124.97009951\n",
      "  86.79839823  94.61790099 113.74939938 156.45180359 147.24810033\n",
      " 105.22550031 166.47549762 111.24569985 128.37749997  90.77039988\n",
      " 109.4886996   75.96390111 110.51669987 163.41359946 155.58369865\n",
      " 152.03390174 161.69890002  92.03149859 118.17620198  93.88670125\n",
      " 129.75690045 117.71940021 117.42420054 124.30810032 120.9922001\n",
      "  97.8395996  168.39610097 145.8561022  124.54189883 169.10639831\n",
      "  84.19880003 167.28979832 130.71830195 119.78790185  88.56320026\n",
      " 119.91499863  83.6296989  118.70120091 113.85899903 116.49239887\n",
      " 154.35019786 134.22010438 118.35200158 118.84979818 123.16229857\n",
      " 115.40590083 118.55750016 121.97620056 146.47410059 151.00420047\n",
      " 168.43770041  98.05479916 160.00930055  93.46870005 140.55589961\n",
      " 121.33390069  84.16989895 106.40609954 123.55379977 169.39599695\n",
      "  93.48629881  96.50180064 152.64709968]\n"
     ]
    }
   ],
   "source": [
    "print(pred)"
   ]
  },
  {
   "cell_type": "code",
   "execution_count": null,
   "id": "6af34d2a",
   "metadata": {},
   "outputs": [],
   "source": []
  }
 ],
 "metadata": {
  "kernelspec": {
   "display_name": "Python 3 (ipykernel)",
   "language": "python",
   "name": "python3"
  },
  "language_info": {
   "codemirror_mode": {
    "name": "ipython",
    "version": 3
   },
   "file_extension": ".py",
   "mimetype": "text/x-python",
   "name": "python",
   "nbconvert_exporter": "python",
   "pygments_lexer": "ipython3",
   "version": "3.9.12"
  }
 },
 "nbformat": 4,
 "nbformat_minor": 5
}
